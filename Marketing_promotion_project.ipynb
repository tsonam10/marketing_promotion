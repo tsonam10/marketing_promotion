{
 "cells": [
  {
   "cell_type": "code",
   "execution_count": 20,
   "metadata": {},
   "outputs": [],
   "source": [
    "import pandas as pd\n",
    "import numpy as np\n",
    "import matplotlib.pyplot as plt\n",
    "import datetime as dt"
   ]
  },
  {
   "cell_type": "code",
   "execution_count": 28,
   "metadata": {},
   "outputs": [
    {
     "name": "stdout",
     "output_type": "stream",
     "text": [
      "<class 'pandas.core.frame.DataFrame'>\n",
      "RangeIndex: 125000 entries, 0 to 124999\n",
      "Data columns (total 3 columns):\n",
      " #   Column       Non-Null Count   Dtype         \n",
      "---  ------       --------------   -----         \n",
      " 0   customer_id  125000 non-null  object        \n",
      " 1   trans_date   125000 non-null  datetime64[ns]\n",
      " 2   tran_amount  125000 non-null  int64         \n",
      "dtypes: datetime64[ns](1), int64(1), object(1)\n",
      "memory usage: 2.9+ MB\n"
     ]
    }
   ],
   "source": [
    "data = pd.read_csv('rfm_xmas19.txt', parse_dates=['trans_date'])\n",
    "data.info()\n"
   ]
  },
  {
   "cell_type": "code",
   "execution_count": 29,
   "metadata": {},
   "outputs": [
    {
     "data": {
      "text/plain": [
       "customer_id    0\n",
       "trans_date     0\n",
       "tran_amount    0\n",
       "dtype: int64"
      ]
     },
     "execution_count": 29,
     "metadata": {},
     "output_type": "execute_result"
    }
   ],
   "source": [
    "data.isnull().sum()"
   ]
  },
  {
   "cell_type": "code",
   "execution_count": 30,
   "metadata": {},
   "outputs": [
    {
     "data": {
      "text/html": [
       "<div>\n",
       "<style scoped>\n",
       "    .dataframe tbody tr th:only-of-type {\n",
       "        vertical-align: middle;\n",
       "    }\n",
       "\n",
       "    .dataframe tbody tr th {\n",
       "        vertical-align: top;\n",
       "    }\n",
       "\n",
       "    .dataframe thead th {\n",
       "        text-align: right;\n",
       "    }\n",
       "</style>\n",
       "<table border=\"1\" class=\"dataframe\">\n",
       "  <thead>\n",
       "    <tr style=\"text-align: right;\">\n",
       "      <th></th>\n",
       "      <th>customer_id</th>\n",
       "      <th>trans_date</th>\n",
       "      <th>tran_amount</th>\n",
       "    </tr>\n",
       "  </thead>\n",
       "  <tbody>\n",
       "    <tr>\n",
       "      <th>0</th>\n",
       "      <td>FM5295</td>\n",
       "      <td>2017-11-11</td>\n",
       "      <td>35</td>\n",
       "    </tr>\n",
       "    <tr>\n",
       "      <th>1</th>\n",
       "      <td>FM4768</td>\n",
       "      <td>2019-12-15</td>\n",
       "      <td>39</td>\n",
       "    </tr>\n",
       "    <tr>\n",
       "      <th>2</th>\n",
       "      <td>FM2122</td>\n",
       "      <td>2017-11-26</td>\n",
       "      <td>52</td>\n",
       "    </tr>\n",
       "    <tr>\n",
       "      <th>3</th>\n",
       "      <td>FM1217</td>\n",
       "      <td>2016-08-16</td>\n",
       "      <td>99</td>\n",
       "    </tr>\n",
       "    <tr>\n",
       "      <th>4</th>\n",
       "      <td>FM1850</td>\n",
       "      <td>2018-08-20</td>\n",
       "      <td>78</td>\n",
       "    </tr>\n",
       "  </tbody>\n",
       "</table>\n",
       "</div>"
      ],
      "text/plain": [
       "  customer_id trans_date  tran_amount\n",
       "0      FM5295 2017-11-11           35\n",
       "1      FM4768 2019-12-15           39\n",
       "2      FM2122 2017-11-26           52\n",
       "3      FM1217 2016-08-16           99\n",
       "4      FM1850 2018-08-20           78"
      ]
     },
     "execution_count": 30,
     "metadata": {},
     "output_type": "execute_result"
    }
   ],
   "source": [
    "data.head()"
   ]
  },
  {
   "cell_type": "code",
   "execution_count": 35,
   "metadata": {},
   "outputs": [
    {
     "data": {
      "text/plain": [
       "customer_id\n",
       "FM1112   2019-10-14\n",
       "FM1113   2019-11-09\n",
       "FM1114   2019-11-12\n",
       "FM1115   2019-12-05\n",
       "FM1116   2019-05-25\n",
       "            ...    \n",
       "FM8996   2019-09-09\n",
       "FM8997   2019-03-28\n",
       "FM8998   2019-09-22\n",
       "FM8999   2019-04-02\n",
       "FM9000   2019-11-28\n",
       "Name: trans_date, Length: 6889, dtype: datetime64[ns]"
      ]
     },
     "execution_count": 35,
     "metadata": {},
     "output_type": "execute_result"
    }
   ],
   "source": [
    "group_by_customer = data.groupby('customer_id')\n",
    "last_transaction = group_by_customer['trans_date'].max()\n",
    "last_transaction\n"
   ]
  },
  {
   "cell_type": "code",
   "execution_count": 32,
   "metadata": {},
   "outputs": [
    {
     "data": {
      "text/html": [
       "<div>\n",
       "<style scoped>\n",
       "    .dataframe tbody tr th:only-of-type {\n",
       "        vertical-align: middle;\n",
       "    }\n",
       "\n",
       "    .dataframe tbody tr th {\n",
       "        vertical-align: top;\n",
       "    }\n",
       "\n",
       "    .dataframe thead th {\n",
       "        text-align: right;\n",
       "    }\n",
       "</style>\n",
       "<table border=\"1\" class=\"dataframe\">\n",
       "  <thead>\n",
       "    <tr style=\"text-align: right;\">\n",
       "      <th></th>\n",
       "      <th>trans_date</th>\n",
       "      <th>churned</th>\n",
       "    </tr>\n",
       "    <tr>\n",
       "      <th>customer_id</th>\n",
       "      <th></th>\n",
       "      <th></th>\n",
       "    </tr>\n",
       "  </thead>\n",
       "  <tbody>\n",
       "    <tr>\n",
       "      <th>FM1112</th>\n",
       "      <td>2019-10-14</td>\n",
       "      <td>1</td>\n",
       "    </tr>\n",
       "    <tr>\n",
       "      <th>FM1113</th>\n",
       "      <td>2019-11-09</td>\n",
       "      <td>0</td>\n",
       "    </tr>\n",
       "    <tr>\n",
       "      <th>FM1114</th>\n",
       "      <td>2019-11-12</td>\n",
       "      <td>0</td>\n",
       "    </tr>\n",
       "    <tr>\n",
       "      <th>FM1115</th>\n",
       "      <td>2019-12-05</td>\n",
       "      <td>0</td>\n",
       "    </tr>\n",
       "    <tr>\n",
       "      <th>FM1116</th>\n",
       "      <td>2019-05-25</td>\n",
       "      <td>1</td>\n",
       "    </tr>\n",
       "  </tbody>\n",
       "</table>\n",
       "</div>"
      ],
      "text/plain": [
       "            trans_date  churned\n",
       "customer_id                    \n",
       "FM1112      2019-10-14        1\n",
       "FM1113      2019-11-09        0\n",
       "FM1114      2019-11-12        0\n",
       "FM1115      2019-12-05        0\n",
       "FM1116      2019-05-25        1"
      ]
     },
     "execution_count": 32,
     "metadata": {},
     "output_type": "execute_result"
    }
   ],
   "source": [
    "cutoff_day =dt.datetime(2019, 10,16)\n",
    "best_churn = pd.DataFrame(last_transaction)\n",
    "best_churn['churned']= best_churn['trans_date'].apply(lambda x: 1 if x < cutoff_day else 0)\n",
    "best_churn.head()"
   ]
  },
  {
   "cell_type": "markdown",
   "metadata": {},
   "source": [
    "Finding a ranking mechanism that can determine a threshold to identify the best customers.\n"
   ]
  },
  {
   "cell_type": "code",
   "execution_count": 39,
   "metadata": {},
   "outputs": [
    {
     "data": {
      "text/html": [
       "<div>\n",
       "<style scoped>\n",
       "    .dataframe tbody tr th:only-of-type {\n",
       "        vertical-align: middle;\n",
       "    }\n",
       "\n",
       "    .dataframe tbody tr th {\n",
       "        vertical-align: top;\n",
       "    }\n",
       "\n",
       "    .dataframe thead th {\n",
       "        text-align: right;\n",
       "    }\n",
       "</style>\n",
       "<table border=\"1\" class=\"dataframe\">\n",
       "  <thead>\n",
       "    <tr style=\"text-align: right;\">\n",
       "      <th></th>\n",
       "      <th>churned</th>\n",
       "      <th>n_of_transaction</th>\n",
       "      <th>amount_spent</th>\n",
       "    </tr>\n",
       "    <tr>\n",
       "      <th>customer_id</th>\n",
       "      <th></th>\n",
       "      <th></th>\n",
       "      <th></th>\n",
       "    </tr>\n",
       "  </thead>\n",
       "  <tbody>\n",
       "    <tr>\n",
       "      <th>FM1112</th>\n",
       "      <td>1</td>\n",
       "      <td>15</td>\n",
       "      <td>1012</td>\n",
       "    </tr>\n",
       "    <tr>\n",
       "      <th>FM1113</th>\n",
       "      <td>0</td>\n",
       "      <td>20</td>\n",
       "      <td>1490</td>\n",
       "    </tr>\n",
       "    <tr>\n",
       "      <th>FM1114</th>\n",
       "      <td>0</td>\n",
       "      <td>19</td>\n",
       "      <td>1432</td>\n",
       "    </tr>\n",
       "    <tr>\n",
       "      <th>FM1115</th>\n",
       "      <td>0</td>\n",
       "      <td>22</td>\n",
       "      <td>1659</td>\n",
       "    </tr>\n",
       "    <tr>\n",
       "      <th>FM1116</th>\n",
       "      <td>1</td>\n",
       "      <td>13</td>\n",
       "      <td>857</td>\n",
       "    </tr>\n",
       "  </tbody>\n",
       "</table>\n",
       "</div>"
      ],
      "text/plain": [
       "             churned  n_of_transaction  amount_spent\n",
       "customer_id                                         \n",
       "FM1112             1                15          1012\n",
       "FM1113             0                20          1490\n",
       "FM1114             0                19          1432\n",
       "FM1115             0                22          1659\n",
       "FM1116             1                13           857"
      ]
     },
     "execution_count": 39,
     "metadata": {},
     "output_type": "execute_result"
    }
   ],
   "source": [
    "#weighted sum model\n",
    "best_churn['n_of_transaction']=group_by_customer.size() \n",
    "best_churn['amount_spent']= group_by_customer.sum()\n",
    "best_churn.head()"
   ]
  },
  {
   "cell_type": "code",
   "execution_count": 41,
   "metadata": {},
   "outputs": [
    {
     "data": {
      "text/html": [
       "<div>\n",
       "<style scoped>\n",
       "    .dataframe tbody tr th:only-of-type {\n",
       "        vertical-align: middle;\n",
       "    }\n",
       "\n",
       "    .dataframe tbody tr th {\n",
       "        vertical-align: top;\n",
       "    }\n",
       "\n",
       "    .dataframe thead th {\n",
       "        text-align: right;\n",
       "    }\n",
       "</style>\n",
       "<table border=\"1\" class=\"dataframe\">\n",
       "  <thead>\n",
       "    <tr style=\"text-align: right;\">\n",
       "      <th></th>\n",
       "      <th>n_of_transaction</th>\n",
       "      <th>amount_spent</th>\n",
       "    </tr>\n",
       "  </thead>\n",
       "  <tbody>\n",
       "    <tr>\n",
       "      <th>min</th>\n",
       "      <td>4.0</td>\n",
       "      <td>149.0</td>\n",
       "    </tr>\n",
       "    <tr>\n",
       "      <th>max</th>\n",
       "      <td>39.0</td>\n",
       "      <td>2933.0</td>\n",
       "    </tr>\n",
       "  </tbody>\n",
       "</table>\n",
       "</div>"
      ],
      "text/plain": [
       "     n_of_transaction  amount_spent\n",
       "min               4.0         149.0\n",
       "max              39.0        2933.0"
      ]
     },
     "execution_count": 41,
     "metadata": {},
     "output_type": "execute_result"
    }
   ],
   "source": [
    "best_churn[['n_of_transaction', 'amount_spent']].describe().loc[['min', 'max']]"
   ]
  },
  {
   "cell_type": "code",
   "execution_count": 73,
   "metadata": {},
   "outputs": [],
   "source": [
    "\n",
    "best_churn['scaled_tran']=(best_churn['n_of_transaction']-\n",
    "                           best_churn['n_of_transaction'].min())/(best_churn['n_of_transaction'].max()-best_churn['n_of_transaction'].min())\n",
    "\n",
    "best_churn['scaled_amount'] =(best_churn['amount_spent']-\n",
    "                              best_churn['amount_spent'].min())/(best_churn['amount_spent'].max()-best_churn['amount_spent'].min())\n",
    "\n",
    "                          \n",
    "                         \n"
   ]
  },
  {
   "cell_type": "code",
   "execution_count": 78,
   "metadata": {},
   "outputs": [],
   "source": [
    "best_churn[\"score\"] = 100*(.5*best_churn[\"scaled_tran\"] \\\n",
    "                           + .5*best_churn[\"scaled_amount\"])\n"
   ]
  },
  {
   "cell_type": "code",
   "execution_count": 81,
   "metadata": {},
   "outputs": [
    {
     "data": {
      "text/html": [
       "<div>\n",
       "<style scoped>\n",
       "    .dataframe tbody tr th:only-of-type {\n",
       "        vertical-align: middle;\n",
       "    }\n",
       "\n",
       "    .dataframe tbody tr th {\n",
       "        vertical-align: top;\n",
       "    }\n",
       "\n",
       "    .dataframe thead th {\n",
       "        text-align: right;\n",
       "    }\n",
       "</style>\n",
       "<table border=\"1\" class=\"dataframe\">\n",
       "  <thead>\n",
       "    <tr style=\"text-align: right;\">\n",
       "      <th></th>\n",
       "      <th>churned</th>\n",
       "      <th>n_of_transaction</th>\n",
       "      <th>amount_spent</th>\n",
       "      <th>scaled_tran</th>\n",
       "      <th>scaled_amount</th>\n",
       "      <th>score</th>\n",
       "    </tr>\n",
       "    <tr>\n",
       "      <th>customer_id</th>\n",
       "      <th></th>\n",
       "      <th></th>\n",
       "      <th></th>\n",
       "      <th></th>\n",
       "      <th></th>\n",
       "      <th></th>\n",
       "    </tr>\n",
       "  </thead>\n",
       "  <tbody>\n",
       "    <tr>\n",
       "      <th>FM4424</th>\n",
       "      <td>0</td>\n",
       "      <td>39</td>\n",
       "      <td>2933</td>\n",
       "      <td>1.000000</td>\n",
       "      <td>1.000000</td>\n",
       "      <td>100.000000</td>\n",
       "    </tr>\n",
       "    <tr>\n",
       "      <th>FM4320</th>\n",
       "      <td>1</td>\n",
       "      <td>38</td>\n",
       "      <td>2647</td>\n",
       "      <td>0.971429</td>\n",
       "      <td>0.897270</td>\n",
       "      <td>93.434934</td>\n",
       "    </tr>\n",
       "    <tr>\n",
       "      <th>FM3799</th>\n",
       "      <td>1</td>\n",
       "      <td>36</td>\n",
       "      <td>2513</td>\n",
       "      <td>0.914286</td>\n",
       "      <td>0.849138</td>\n",
       "      <td>88.171182</td>\n",
       "    </tr>\n",
       "    <tr>\n",
       "      <th>FM5109</th>\n",
       "      <td>0</td>\n",
       "      <td>35</td>\n",
       "      <td>2506</td>\n",
       "      <td>0.885714</td>\n",
       "      <td>0.846624</td>\n",
       "      <td>86.616892</td>\n",
       "    </tr>\n",
       "    <tr>\n",
       "      <th>FM3805</th>\n",
       "      <td>1</td>\n",
       "      <td>35</td>\n",
       "      <td>2453</td>\n",
       "      <td>0.885714</td>\n",
       "      <td>0.827586</td>\n",
       "      <td>85.665025</td>\n",
       "    </tr>\n",
       "  </tbody>\n",
       "</table>\n",
       "</div>"
      ],
      "text/plain": [
       "             churned  n_of_transaction  amount_spent  scaled_tran  \\\n",
       "customer_id                                                         \n",
       "FM4424             0                39          2933     1.000000   \n",
       "FM4320             1                38          2647     0.971429   \n",
       "FM3799             1                36          2513     0.914286   \n",
       "FM5109             0                35          2506     0.885714   \n",
       "FM3805             1                35          2453     0.885714   \n",
       "\n",
       "             scaled_amount       score  \n",
       "customer_id                             \n",
       "FM4424            1.000000  100.000000  \n",
       "FM4320            0.897270   93.434934  \n",
       "FM3799            0.849138   88.171182  \n",
       "FM5109            0.846624   86.616892  \n",
       "FM3805            0.827586   85.665025  "
      ]
     },
     "execution_count": 81,
     "metadata": {},
     "output_type": "execute_result"
    }
   ],
   "source": [
    "best_churn.sort_values('score', inplace=True, ascending=False)\n",
    "best_churn.head()"
   ]
  },
  {
   "cell_type": "code",
   "execution_count": 87,
   "metadata": {},
   "outputs": [
    {
     "name": "stdout",
     "output_type": "stream",
     "text": [
      "19.4975736\n",
      "51.28843314123969\n"
     ]
    }
   ],
   "source": [
    "mean_transaction = data['tran_amount'].mean()\n",
    "coupon = mean_transaction *0.3\n",
    "no_customers = 1000/coupon\n",
    "print( coupon, no_customers, sep='\\n')"
   ]
  },
  {
   "cell_type": "code",
   "execution_count": 89,
   "metadata": {},
   "outputs": [],
   "source": [
    "top_50_churned = best_churn[best_churn['churned']==1].head(50)\n",
    "top_50_churned.to_csv('best_customers.csv')"
   ]
  },
  {
   "cell_type": "code",
   "execution_count": null,
   "metadata": {},
   "outputs": [],
   "source": []
  }
 ],
 "metadata": {
  "kernelspec": {
   "display_name": "Python 3",
   "language": "python",
   "name": "python3"
  },
  "language_info": {
   "codemirror_mode": {
    "name": "ipython",
    "version": 3
   },
   "file_extension": ".py",
   "mimetype": "text/x-python",
   "name": "python",
   "nbconvert_exporter": "python",
   "pygments_lexer": "ipython3",
   "version": "3.8.3"
  }
 },
 "nbformat": 4,
 "nbformat_minor": 4
}
